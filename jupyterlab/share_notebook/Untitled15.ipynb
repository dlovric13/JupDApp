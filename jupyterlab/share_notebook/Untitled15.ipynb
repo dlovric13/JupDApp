{
 "cells": [
  {
   "cell_type": "code",
   "execution_count": null,
   "id": "d62b5e42-a948-4b81-8664-fbf8f32051d8",
   "metadata": {},
   "outputs": [],
   "source": [
    "last one"
   ]
  }
 ],
 "metadata": {
  "kernelspec": {
   "display_name": "Python 3 (ipykernel)",
   "language": "python",
   "name": "python3"
  },
  "language_info": {
   "codemirror_mode": {
    "name": "ipython",
    "version": 3
   },
   "file_extension": ".py",
   "mimetype": "text/x-python",
   "name": "python",
   "nbconvert_exporter": "python",
   "pygments_lexer": "ipython3",
   "version": "3.9.16"
  }
 },
 "nbformat": 4,
 "nbformat_minor": 5
}
