{
 "cells": [
  {
   "cell_type": "code",
   "execution_count": null,
   "id": "11054c32-b29a-4d8e-a1e6-8807ecf7768a",
   "metadata": {},
   "outputs": [],
   "source": [
    "Hello World! \n",
    "jsdjsjdjsjdj"
   ]
  }
 ],
 "metadata": {
  "kernelspec": {
   "display_name": "Python 3 (ipykernel)",
   "language": "python",
   "name": "python3"
  },
  "language_info": {
   "codemirror_mode": {
    "name": "ipython",
    "version": 3
   },
   "file_extension": ".py",
   "mimetype": "text/x-python",
   "name": "python",
   "nbconvert_exporter": "python",
   "pygments_lexer": "ipython3",
   "version": "3.9.16"
  }
 },
 "nbformat": 4,
 "nbformat_minor": 5
}
