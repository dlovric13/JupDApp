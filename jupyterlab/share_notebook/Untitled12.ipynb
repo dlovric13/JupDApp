{
 "cells": [
  {
   "cell_type": "code",
   "execution_count": null,
   "id": "93ad2a02-c5e0-4f51-be3b-18e4935522f3",
   "metadata": {},
   "outputs": [],
   "source": []
  },
  {
   "cell_type": "code",
   "execution_count": null,
   "id": "01d95bbc-ef88-4bf2-a9d4-3f81b79d2d64",
   "metadata": {},
   "outputs": [],
   "source": [
    "sdsdsad"
   ]
  }
 ],
 "metadata": {
  "kernelspec": {
   "display_name": "Python 3 (ipykernel)",
   "language": "python",
   "name": "python3"
  },
  "language_info": {
   "codemirror_mode": {
    "name": "ipython",
    "version": 3
   },
   "file_extension": ".py",
   "mimetype": "text/x-python",
   "name": "python",
   "nbconvert_exporter": "python",
   "pygments_lexer": "ipython3",
   "version": "3.9.16"
  }
 },
 "nbformat": 4,
 "nbformat_minor": 5
}
