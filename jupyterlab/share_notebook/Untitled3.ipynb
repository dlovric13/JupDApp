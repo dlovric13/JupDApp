{
 "cells": [
  {
   "cell_type": "code",
   "execution_count": null,
   "id": "ef216e68-984f-48db-a3f1-1e7debe42294",
   "metadata": {},
   "outputs": [],
   "source": [
    "Hello!"
   ]
  }
 ],
 "metadata": {
  "kernelspec": {
   "display_name": "Python 3 (ipykernel)",
   "language": "python",
   "name": "python3"
  },
  "language_info": {
   "codemirror_mode": {
    "name": "ipython",
    "version": 3
   },
   "file_extension": ".py",
   "mimetype": "text/x-python",
   "name": "python",
   "nbconvert_exporter": "python",
   "pygments_lexer": "ipython3",
   "version": "3.9.16"
  }
 },
 "nbformat": 4,
 "nbformat_minor": 5
}
