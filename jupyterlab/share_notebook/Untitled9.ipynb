{
 "cells": [
  {
   "cell_type": "code",
   "execution_count": null,
   "id": "e429afe2-cbe2-40d8-8726-9c64cd1c3cf5",
   "metadata": {},
   "outputs": [],
   "source": [
    "nessjsjds"
   ]
  }
 ],
 "metadata": {
  "kernelspec": {
   "display_name": "Python 3 (ipykernel)",
   "language": "python",
   "name": "python3"
  },
  "language_info": {
   "codemirror_mode": {
    "name": "ipython",
    "version": 3
   },
   "file_extension": ".py",
   "mimetype": "text/x-python",
   "name": "python",
   "nbconvert_exporter": "python",
   "pygments_lexer": "ipython3",
   "version": "3.9.16"
  }
 },
 "nbformat": 4,
 "nbformat_minor": 5
}
