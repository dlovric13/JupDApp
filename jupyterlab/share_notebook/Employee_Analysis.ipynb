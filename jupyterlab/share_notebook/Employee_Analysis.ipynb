{
 "cells": [
  {
   "cell_type": "code",
   "execution_count": 4,
   "id": "59d0e5a8-3bee-4bf3-abea-ca2a9bf81755",
   "metadata": {},
   "outputs": [
    {
     "name": "stdout",
     "output_type": "stream",
     "text": [
      "Requirement already satisfied: pandas in /home/vagrant/miniconda3/envs/jupyterlab-ext/lib/python3.9/site-packages (2.0.1)\n",
      "Requirement already satisfied: numpy>=1.20.3 in /home/vagrant/miniconda3/envs/jupyterlab-ext/lib/python3.9/site-packages (from pandas) (1.24.3)\n",
      "Requirement already satisfied: pytz>=2020.1 in /home/vagrant/miniconda3/envs/jupyterlab-ext/lib/python3.9/site-packages (from pandas) (2022.7)\n",
      "Requirement already satisfied: python-dateutil>=2.8.2 in /home/vagrant/miniconda3/envs/jupyterlab-ext/lib/python3.9/site-packages (from pandas) (2.8.2)\n",
      "Requirement already satisfied: tzdata>=2022.1 in /home/vagrant/miniconda3/envs/jupyterlab-ext/lib/python3.9/site-packages (from pandas) (2023.3)\n",
      "Requirement already satisfied: six>=1.5 in /home/vagrant/miniconda3/envs/jupyterlab-ext/lib/python3.9/site-packages (from python-dateutil>=2.8.2->pandas) (1.16.0)\n",
      "     Name  Age  Salary Department\n",
      "0    John   30   50000  Marketing\n",
      "1    Anna   40   60000      Sales\n",
      "2  Robert   35   70000         HR\n",
      "        Age   Salary\n",
      "count   3.0      3.0\n",
      "mean   35.0  60000.0\n",
      "std     5.0  10000.0\n",
      "min    30.0  50000.0\n",
      "25%    32.5  55000.0\n",
      "50%    35.0  60000.0\n",
      "75%    37.5  65000.0\n",
      "max    40.0  70000.0\n",
      "Department\n",
      "Marketing    1\n",
      "Sales        1\n",
      "HR           1\n",
      "Name: count, dtype: int64\n",
      "Average Salary: 60000.0\n",
      "   Name  Age  Salary Department\n",
      "1  Anna   40   60000      Sales\n"
     ]
    }
   ],
   "source": [
    "!pip install pandas\n",
    "# Import necessary libraries\n",
    "import pandas as pd\n",
    "\n",
    "# Load data from CSV file\n",
    "df = pd.read_csv('data.csv')\n",
    "\n",
    "# Display the first few rows of the DataFrame\n",
    "print(df.head())\n",
    "\n",
    "# Get basic statistics for numerical columns\n",
    "print(df.describe())\n",
    "\n",
    "# Count the number of employees in each department\n",
    "department_counts = df['Department'].value_counts()\n",
    "print(department_counts)\n",
    "\n",
    "# Calculate average salary\n",
    "average_salary = df['Salary'].mean()\n",
    "print(f'Average Salary: {average_salary}')\n",
    "\n",
    "# Filter out employees older than 35\n",
    "older_employees = df[df['Age'] > 35]\n",
    "print(older_employees)\n"
   ]
  },
  {
   "cell_type": "code",
   "execution_count": null,
   "id": "d3188b37-f532-41f6-aaeb-d5c6a4279d16",
   "metadata": {},
   "outputs": [],
   "source": [
    "nesto"
   ]
  }
 ],
 "metadata": {
  "kernelspec": {
   "display_name": "Python 3 (ipykernel)",
   "language": "python",
   "name": "python3"
  },
  "language_info": {
   "codemirror_mode": {
    "name": "ipython",
    "version": 3
   },
   "file_extension": ".py",
   "mimetype": "text/x-python",
   "name": "python",
   "nbconvert_exporter": "python",
   "pygments_lexer": "ipython3",
   "version": "3.9.16"
  }
 },
 "nbformat": 4,
 "nbformat_minor": 5
}
